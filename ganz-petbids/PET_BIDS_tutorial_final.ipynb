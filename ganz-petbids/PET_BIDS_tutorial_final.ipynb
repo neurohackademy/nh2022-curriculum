{
 "cells": [
  {
   "cell_type": "markdown",
   "id": "ce9fca16",
   "metadata": {},
   "source": [
    "# Getting started with the Python environment and packages"
   ]
  },
  {
   "cell_type": "code",
   "execution_count": null,
   "id": "c6ad34f5",
   "metadata": {},
   "outputs": [],
   "source": [
    "# import the relevant Python packages\n",
    "import numpy\n",
    "import nibabel\n",
    "import nipype\n",
    "import matplotlib"
   ]
  },
  {
   "cell_type": "markdown",
   "id": "27ce014b-fc0f-4e4b-8e36-cc3ad7311be4",
   "metadata": {},
   "source": [
    "Install a tool to easily download data from a Google drive:"
   ]
  },
  {
   "cell_type": "code",
   "execution_count": null,
   "id": "d3619516-deaa-4f32-9749-d37302687169",
   "metadata": {},
   "outputs": [],
   "source": [
    "!pip install gdown"
   ]
  },
  {
   "cell_type": "markdown",
   "id": "8187f668-8af4-4e38-bf5c-636dd28672fa",
   "metadata": {},
   "source": [
    "Install the package that will help you convert PET data:"
   ]
  },
  {
   "cell_type": "code",
   "execution_count": null,
   "id": "d1c4fc14-9113-430c-bb2d-aac2182d0a37",
   "metadata": {},
   "outputs": [],
   "source": [
    "pip install pypet2bids "
   ]
  },
  {
   "cell_type": "markdown",
   "id": "734530b7",
   "metadata": {},
   "source": [
    "# The PET Brain Imaging Data Structure\n",
    "\n",
    "## History\n",
    "\n",
    "The PET modality is a recent addition to BIDS with its introduction via BEP 009. If you're interested in seeing exactly what and how something gets added to BIDS see the pull request for BEP009 [here](https://github.com/bids-standard/bids-specification/pull/633). The results of that extension proposal can be read [here](https://bids-specification.readthedocs.io/en/stable/04-modality-specific-files/09-positron-emission-tomography.html#positron-emission-tomography) in the bids standard.\n",
    "\n",
    "# PET data conversion\n",
    "\n",
    "## PET image data file formats\n",
    "\n",
    "\n",
    "Before we start to convert data we need to quickly mention that PET image data files come of the scanner in various different formats, some scanners provide DICOM files (.dcm) and others use proprietary formats for example ECAT format (.v) . In order to facilitate easy testing of data conversion across different PET file formats  the [OpenNeuroPET project](https://openneuropet.github.io/) has compiled a bunch of phantom data from different scanner types and is distributing two examples [here](https://drive.google.com/file/d/10S0H7HAnMmxHNpZLlifR14ykIuiXcBAD/view?usp=sharing) . You can download them for testing purposes either manually or in the terminal by typing "
   ]
  },
  {
   "cell_type": "code",
   "execution_count": null,
   "id": "33427c7b-ee2f-4f7f-86c6-dd37cfafa29f",
   "metadata": {},
   "outputs": [],
   "source": [
    "!gdown https://drive.google.com/file/d/10S0H7HAnMmxHNpZLlifR14ykIuiXcBAD/view?usp=sharing --fuzzy"
   ]
  },
  {
   "cell_type": "markdown",
   "id": "3dbf524f-09c1-4c7e-842e-47c80e851e6e",
   "metadata": {},
   "source": [
    "Now let's look at what we have downloaded:"
   ]
  },
  {
   "cell_type": "code",
   "execution_count": null,
   "id": "bcf2f25d-eb1d-405d-8185-e643ae66cc62",
   "metadata": {},
   "outputs": [],
   "source": [
    "!ls ."
   ]
  },
  {
   "cell_type": "markdown",
   "id": "251c65a8",
   "metadata": {},
   "source": [
    "The correct file is there, so let's unzip the downloaded file:"
   ]
  },
  {
   "cell_type": "code",
   "execution_count": null,
   "id": "033b26d5",
   "metadata": {},
   "outputs": [],
   "source": [
    "!unzip OpenNeuroPET-Demo_raw.zip"
   ]
  },
  {
   "cell_type": "markdown",
   "id": "b8b578b9-26c3-43fa-b061-8755588a93c4",
   "metadata": {},
   "source": [
    "You can now look at the file tree:"
   ]
  },
  {
   "cell_type": "code",
   "execution_count": null,
   "id": "442c29c6-5a7c-4bd2-9e98-50e08d20a19c",
   "metadata": {},
   "outputs": [],
   "source": [
    "!tree OpenNeuroPET-Demo_raw"
   ]
  },
  {
   "cell_type": "markdown",
   "id": "5d08c74c",
   "metadata": {},
   "source": [
    "Now you have an example dataset where you have source data (both for ECAT and DICOM PET image format) and the PET BIDS data sets constructed for it.\n",
    "\n",
    "Also if you have access to another PET image file format, or data from a scanner not tested, please reach out to [OpenNeuroPET project](https://openneuropet.github.io/) in order to add a phantom scan in your format.\n",
    "\n",
    "## Conversion\n",
    "\n",
    "The [OpenNeuroPET project](https://openneuropet.github.io/) has tried to develop tools for facilitating easy data conversion for PET. The main tool used for this is [PET2BIDS](https://github.com/openneuropet/PET2BIDS) freely available on the [OpenNeuroPET  GitHub repository](https://github.com/openneuropet) along with other resources like altlases or pipelines. It is available for both Python and MatLab. Eventually, [PET2BIDS](https://github.com/openneuropet/PET2BIDS) will also be wrapped inside other BIDS conversion tools such as [BIDScoin](https://github.com/Donders-Institute/bidscoin) or [ezBIDS](https://brainlife.io/ezbids/), but this is work in progress at the moment. \n",
    "\n",
    "Besides using  [PET2BIDS](https://github.com/openneuropet/PET2BIDS) there is always the possibility to manually convert a data set to PET BIDS and an example will be shown below. In any case, for dicom data format, one relies on [dcm2niix](https://www.nitrc.org/plugins/mwiki/index.php/dcm2nii:MainPage).\n",
    "\n",
    "Below we will show two ways of converting your PET data to BIDS: 1) using [PET2BIDS](https://github.com/openneuropet/PET2BIDS) and 2) manually.\n",
    "\n",
    "### 1) Conversion of PET data using PET2BIDS\n",
    "\n",
    "Detailed documentation for PET2BIDS can be found [here](https://pet2bids.readthedocs.io/en/latest/index.html#) or on the [Github repo](https://github.com/openneuropet/PET2BIDS/blob/main/README.md).\n",
    "\n"
   ]
  },
  {
   "cell_type": "markdown",
   "id": "93a50415",
   "metadata": {},
   "source": [
    "#### Get the Python package PET2BIDS\n",
    "\n",
    "We have already installed it via ''pip install pypet2bids '' above. "
   ]
  },
  {
   "cell_type": "markdown",
   "id": "cac49f50",
   "metadata": {},
   "source": [
    "#### Convert your first dataset \n",
    "\n",
    "Now you already have the converter installed and can go ahead and convert your first dataset! \n",
    "\n",
    "In this example, I am converting an image in DICOM format. It should be noted that pypet2bids  contains several different tools and is itself a part of the larger PET library PET2BIDS, the specific tool I will be using for the following DICOM conversion is dcm2niix4pet.\n",
    "\n",
    "You just need to point dcm2niix4pet to the folder where your data resides, *dcmfolder*, and the folder where you want to output the PET BIDS formatted dataset, *mynewfolder*:"
   ]
  },
  {
   "cell_type": "code",
   "execution_count": null,
   "id": "8ddf6e68",
   "metadata": {},
   "outputs": [],
   "source": [
    "!dcm2niix4pet ./OpenNeuroPET-Demo_raw/source/SiemensBiographPETMR-NRU -d mynewfolder"
   ]
  },
  {
   "cell_type": "markdown",
   "id": "d60606b4",
   "metadata": {},
   "source": [
    "Above you can see some complaints that the converter has - NOT FOUND or FOUND. Note, dcm2niix4pet will do it's best to extract as much information about radiological and blood data from the DICOM files in the dcmfolder. However, dcm2niix4pet can't find information if it isn't there, hence it will often be up to you the user to provide some missing information at the time of conversion. \n",
    "\n",
    "Now we can also look at our BIDS dataset:"
   ]
  },
  {
   "cell_type": "code",
   "execution_count": null,
   "id": "b58e724a-8ae0-4d9a-8159-1bcfca914701",
   "metadata": {},
   "outputs": [],
   "source": [
    "!tree ./mynewfolder"
   ]
  },
  {
   "cell_type": "markdown",
   "id": "46632a5d-6739-4f6c-93db-ece1d4c89386",
   "metadata": {},
   "source": [
    "Additional information can be provided via the command line with the `--kwargs` argument in the form of key=pair values. For an idea of what this looks like see below:"
   ]
  },
  {
   "cell_type": "code",
   "execution_count": null,
   "id": "a8bec492-aa0f-4321-a94e-487ea8601d68",
   "metadata": {},
   "outputs": [],
   "source": [
    "!dcm2niix4pet ./OpenNeuroPET-Demo_raw/source/SiemensBiographPETMR-NRU -d mynewfolder2 --kwargs TimeZero=ScanStart Manufacturer=Siemens ManufacturersModelName=Biograph InstitutionName=\"Rigshospitalet, NRU, DK\" BodyPart=Phantom Units=Bq/mL TracerName=none TracerRadionuclide=F18 InjectedRadioactivity=81.24 SpecificRadioactivity=13019.23 ModeOfAdministration=infusion FrameTimesStart=0 AcquisitionMode=\"list mode\" ImageDecayCorrected=true ImageDecayCorrectionTime=0 AttenuationCorrection=MR-corrected FrameDuration=300 FrameTimesStart=0"
   ]
  },
  {
   "cell_type": "markdown",
   "id": "da992445-21f4-4537-96a6-2a2c98da764f",
   "metadata": {},
   "source": [
    "Now you have a dataset in PET BIDS format. You will probably have gotten some warnings relating to the .json sidecar file. Carefully look at them, since they will help you to catch inconsistencies and missing required fields that you need to add in order for the dataset to pass the BIDS validator as well (see below how that's done). \n",
    "You can always edit the .json file, by opening it in a text editor and manually fixing errors. Alternatively, adjust the meta structure you created above to correct the errors.\n",
    "\n",
    "# PET processing\n",
    "\n",
    "## PET example data for processing\n",
    "\n",
    "In the following we will basically follow the tutorial presented in the [PyPetSurfer repository](https://github.com/openneuropet/PET_pipelines/tree/main/pyPetSurfer) and perform a simple data processing of a PET data set. Therefore we need to clone that GitHub repository. \n",
    "\n",
    "The pipeline utilises FreeSurfer and since this is not avialbale on the HUB, we can't actually execute the following commands. If you are on a machine/in a docker image where Python and FreeSurfer is installed, then you cna follow the following instructions. For now I will show you the results of this in my slides.\n"
   ]
  },
  {
   "cell_type": "markdown",
   "id": "b54493b4",
   "metadata": {},
   "source": [
    "### Commands only to be run if you have FreeSurfer installed on your machine\n",
    "\n",
    "To get our repository with the PET processing code, let's make a separate folder for it and move into it:"
   ]
  },
  {
   "cell_type": "code",
   "execution_count": null,
   "id": "c7da97ff",
   "metadata": {},
   "outputs": [],
   "source": [
    "!mkdir PETprocessing"
   ]
  },
  {
   "cell_type": "code",
   "execution_count": null,
   "id": "cdf36a9c-748c-46bd-8280-ae41ecca6ba2",
   "metadata": {},
   "outputs": [],
   "source": [
    "!cd PETprocessing"
   ]
  },
  {
   "cell_type": "code",
   "execution_count": null,
   "id": "931b2967-b3c4-4a52-946e-dd2c3361bb4e",
   "metadata": {},
   "outputs": [],
   "source": [
    "!git clone https://github.com/openneuropet/PET_pipelines.git ."
   ]
  },
  {
   "cell_type": "markdown",
   "id": "68ca8349",
   "metadata": {},
   "source": [
    "Then we need to cd to the right directory inside the Github repository:"
   ]
  },
  {
   "cell_type": "code",
   "execution_count": null,
   "id": "b405f875",
   "metadata": {},
   "outputs": [],
   "source": [
    " !cd pyPetSurfer "
   ]
  },
  {
   "cell_type": "markdown",
   "id": "1fa47ad3",
   "metadata": {},
   "source": [
    "Download this example dataset from OpenNeuro: https://openneuro.org/datasets/ds001421. Make sure to select the latest version, aka 1.4.1. Because we just updated something in the dataset and this hasn't propagated to all download services yet, either you can download it on your own machine via a browser (on safari, chrome and internet explorer there's a button, in firefox that's unfortunately not possible as of now) or use this command:\n"
   ]
  },
  {
   "cell_type": "code",
   "execution_count": null,
   "id": "4688a80b",
   "metadata": {},
   "outputs": [],
   "source": [
    "!wget https://www.dropbox.com/sh/69dwtnv29wd7jlx/AADnw5FvAANpvzKAxVQTnyhBa?dl=0 "
   ]
  },
  {
   "cell_type": "markdown",
   "id": "617c0862",
   "metadata": {},
   "source": [
    "In general you can see instructions on how to download this OpenNeuro dataset [here](https://openneuro.org/datasets/ds001421/versions/1.2.1/download). \n",
    "Now let's see what we have donwloaded and how it looks like:"
   ]
  },
  {
   "cell_type": "code",
   "execution_count": null,
   "id": "37d197b1-9e58-44f7-9aa3-c9458fd913cc",
   "metadata": {},
   "outputs": [],
   "source": [
    "!ls ."
   ]
  },
  {
   "cell_type": "markdown",
   "id": "bfe2e6b4",
   "metadata": {},
   "source": [
    "There is this strange file titled \"AADnw5FvAANpvzKAxVQTnyhBa?dl=0\" and it's actually a zip file that we need to unzip. "
   ]
  },
  {
   "cell_type": "code",
   "execution_count": null,
   "id": "8e02ba76-90c3-46b7-91b9-69ab1ae17902",
   "metadata": {},
   "outputs": [],
   "source": [
    "!unzip AADnw5FvAANpvzKAxVQTnyhBa?dl=0"
   ]
  },
  {
   "cell_type": "markdown",
   "id": "1efe0e10-8d14-417d-be6c-3ca57d515211",
   "metadata": {},
   "source": [
    "And check again that this is right:"
   ]
  },
  {
   "cell_type": "code",
   "execution_count": null,
   "id": "2d2c784a-ed0d-498f-b44c-2e88d92aef53",
   "metadata": {},
   "outputs": [],
   "source": [
    "!ls ."
   ]
  },
  {
   "cell_type": "markdown",
   "id": "68619faf-c7b4-4359-b056-88253eda4b4e",
   "metadata": {},
   "source": [
    "As an idiosyncracy described in the [PyPetSurfer repository](https://github.com/openneuropet/PET_pipelines/tree/main/pyPetSurfer), we need to ensure that our folder where the dataset was downloaded to is called ds001421-download and that's the case, so all's good. Now simply perform your first PET data anlysis by running the example.py below:"
   ]
  },
  {
   "cell_type": "code",
   "execution_count": null,
   "id": "da214afe",
   "metadata": {},
   "outputs": [],
   "source": [
    "%run ./example.py"
   ]
  },
  {
   "cell_type": "markdown",
   "id": "1194dcd0",
   "metadata": {},
   "source": [
    "Once you have run it, you will be able to see output like this:\n",
    "\n",
    "    All computations have been successfully executed.\n",
    "\n",
    "You can also move into the directory of the dataset 'ds001421-download' and see what is there: \n",
    "\n",
    "    CHANGES  dataset_description.json  derivatives  participants.json  participants.tsv  README  sub-01\n",
    "    \n",
    "If you naviagte into the derivatives folder, you can see the following subfolders:\n",
    "\n",
    "    freesurfer  pet_surfer  suit\n",
    "    \n",
    "And within the pet_surfer folder you can see the following result folders and files:\n",
    "\n",
    "    midframes.sec.dat                             sub-01_ses-baseline_pet_weighted_average.nii.gz\n",
    "    QC_gtmseg.png                                 sub-01_ses-baseline_space-anat_pet_weighted_average.nii.gz\n",
    "    QC_pet_anat_coreg.png                         sub-01_ses-baseline_space-cvs-MNI152_brain_mask.nii.gz\n",
    "    ref_hb_tac.png                                sub-01_ses-baseline_space-cvs-MNI152_pet.nii.gz\n",
    "    sub-01_ses-baseline_hemi-lh_pet.nii.gz        sub-01_ses-baseline_space-cvs-MNI152_sm5_km-mrtm2\n",
    "    sub-01_ses-baseline_hemi-lh_sm10_km-mrtm2     sub-01_ses-baseline_space-cvs-MNI152_sm5_pet.nii.gz\n",
    "    sub-01_ses-baseline_hemi-lh_sm10_pet.nii.gz   sub-01_ses-baseline_space-gtmseg_pet.nii.gz\n",
    "    sub-01_ses-baseline_hemi-lh_tac-annot.nii.gz  sub-01_ses-baseline_sub-01_ses-baseline_hemi-lh_tac-annot_km-mrtm2\n",
    "    sub-01_ses-baseline_hemi-rh_pet.nii.gz        sub-01_ses-baseline_sub-01_ses-baseline_hemi-rh_tac-annot_km-mrtm2\n",
    "    sub-01_ses-baseline_hemi-rh_sm10_km-mrtm2     sub-01_ses-baseline_sub-01_ses-baseline_tac-gtmseg-subcort_km-mrtm2\n",
    "    sub-01_ses-baseline_hemi-rh_sm10_pet.nii.gz   sub-01_ses-baseline_tac-gtmseg-subcort.nii.gz\n",
    "    sub-01_ses-baseline_hemi-rh_tac-annot.nii.gz  sub-01_ses-baseline_tac-high-binding.nii.gz\n",
    "    sub-01_ses-baseline_high-binding_km-mrtm      sub-01_ses-baseline_tac-reference.dat\n",
    "    sub-01_ses-baseline_pet_to_anat.lta\n",
    "\n",
    "You can now visualize the results in your favorite viewer. For a full description of the different output files, see the [PetSurfer tutorial](https://surfer.nmr.mgh.harvard.edu/fswiki/PetSurfer)."
   ]
  }
 ],
 "metadata": {
  "kernelspec": {
   "display_name": "Python 3",
   "language": "python",
   "name": "python3"
  },
  "language_info": {
   "codemirror_mode": {
    "name": "ipython",
    "version": 3
   },
   "file_extension": ".py",
   "mimetype": "text/x-python",
   "name": "python",
   "nbconvert_exporter": "python",
   "pygments_lexer": "ipython3",
   "version": "3.8.8"
  }
 },
 "nbformat": 4,
 "nbformat_minor": 5
}
